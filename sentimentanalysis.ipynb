{
  "nbformat": 4,
  "nbformat_minor": 0,
  "metadata": {
    "colab": {
      "provenance": []
    },
    "kernelspec": {
      "name": "python3",
      "display_name": "Python 3"
    },
    "language_info": {
      "name": "python"
    }
  },
  "cells": [
    {
      "cell_type": "code",
      "execution_count": null,
      "metadata": {
        "colab": {
          "base_uri": "https://localhost:8080/"
        },
        "id": "zs0YQMcXzxLj",
        "outputId": "c875a436-7ab5-4520-b804-f9f6b1207e97"
      },
      "outputs": [
        {
          "output_type": "stream",
          "name": "stdout",
          "text": [
            "Accuracy: 0.599146807884672\n",
            "classification Report:\n",
            "               precision    recall  f1-score   support\n",
            "\n",
            "           0       0.35      0.01      0.01       819\n",
            "           1       0.23      0.01      0.01       853\n",
            "           2       0.61      0.96      0.74      4016\n",
            "           3       0.52      0.19      0.28      1110\n",
            "\n",
            "    accuracy                           0.60      6798\n",
            "   macro avg       0.43      0.29      0.26      6798\n",
            "weighted avg       0.51      0.60      0.49      6798\n",
            "\n",
            "Test sentence 1: Non-offensive\n",
            "Test sentence 2: Non-offensive\n"
          ]
        }
      ],
      "source": [
        "import pandas as pd\n",
        "import numpy as np\n",
        "from sklearn.feature_extraction.text import TfidfVectorizer\n",
        "from sklearn.neighbors import KNeighborsClassifier\n",
        "from sklearn.model_selection import train_test_split\n",
        "from sklearn.metrics import accuracy_score\n",
        "from sklearn import preprocessing\n",
        "dataset= pd.read_csv('/content/drive/MyDrive/Colab Notebooks/tam-sentiment-train.csv')\n",
        "dataset['category'] = preprocessing.LabelEncoder().fit_transform(dataset['category'])\n",
        "\n",
        "X= dataset['text']\n",
        "y = dataset['category']\n",
        "\n",
        "vectorizer = TfidfVectorizer()\n",
        "X_tfidf = vectorizer.fit_transform(X)\n",
        "\n",
        "X_train, X_test, y_train, y_test = train_test_split(X_tfidf, y, test_size=0.2, random_state=42)\n",
        "\n",
        "knn_classifier = KNeighborsClassifier(n_neighbors=5)\n",
        "knn_classifier.fit(X_train, y_train)\n",
        "\n",
        "y_pred = knn_classifier.predict(X_test)\n",
        "\n",
        "accuracy = accuracy_score(y_test, y_pred)\n",
        "print(f'Accuracy: {accuracy}')\n",
        "\n",
        "from sklearn.metrics import accuracy_score, classification_report, confusion_matrix\n",
        "class_report = classification_report(y_test,y_pred)\n",
        "print(\"classification Report:\\n\",class_report)\n",
        "\n",
        "from sklearn.feature_extraction.text import TfidfVectorizer\n",
        "\n",
        "test_data = pd.read_csv(\"/content/drive/MyDrive/Colab Notebooks/tam_test_without_labels.csv\")\n",
        "test_data\n",
        "\n",
        "X_test_tfidf = vectorizer.transform(test_data)\n",
        "y_pred = knn_classifier.predict(X_test_tfidf)\n",
        "for i, label in enumerate(y_pred):\n",
        "    print(f\"Test sentence {i + 1}: {'Offensive' if label == 1 else 'Non-offensive'}\")\n",
        "\n",
        "from sklearn.metrics import accuracy_score, precision_score, recall_score, f1_score\n",
        "\n",
        "\n",
        "y_train_pred = knn_classifier.predict(X_train)\n",
        "y_test_pred = knn_classifier.predict(X_test)\n",
        "\n",
        "train_accuracy = accuracy_score(y_train, y_train_pred)\n",
        "train_precision = precision_score(y_train, y_train_pred, average=None)\n",
        "train_recall = recall_score(y_train, y_train_pred, average=None)\n",
        "train_f1_score = f1_score(y_train, y_train_pred, average=None)\n",
        "test_accuracy = accuracy_score(y_test, y_test_pred)\n",
        "test_precision = precision_score(y_test, y_test_pred,average=None)\n",
        "test_recall = recall_score(y_test, y_test_pred, average=None)\n",
        "test_f1_score = f1_score(y_test, y_test_pred, average=None)\n",
        "\n",
        "print(\"Training Data Metrics:\")\n",
        "print(f\"Accuracy: {train_accuracy}\")\n",
        "print(f\"Precision: {train_precision}\")\n",
        "print(f\"Recall: {train_recall}\")\n",
        "print(f\"F1-Score: {train_f1_score}\")\n",
        "\n",
        "print(\"\\nTest Data Metrics:\")\n",
        "print(f\"Accuracy: {test_accuracy}\")\n",
        "print(f\"Precision: {test_precision}\")\n",
        "print(f\"Recall: {test_recall}\")\n",
        "print(f\"F1-Score: {test_f1_score}\")\n",
        "\n",
        "\n",
        "test_data = pd.read_csv(\"/content/drive/MyDrive/Colab Notebooks/tam_test_without_labels.csv\")\n",
        "\n",
        "# Assuming 'vectorizer' is already trained on some training data\n",
        "# Assuming 'svc_classifier' (SVC) is trained to classify emotions\n",
        "\n",
        "# Preprocess the test text and transform it using the same vectorizer\n",
        "test_text = test_data['Text']  # Assuming 'Text' is the column name containing text data\n",
        "test_text_tfidf = vectorizer.transform(test_text)\n",
        "\n",
        "# Predict the emotions for the test text using SVC classifier\n",
        "test_emotions = knn_classifier.predict(test_text_tfidf)\n",
        "\n",
        "# Mapping numerical labels to emotion names\n",
        "emotion_mapping = {0: 'Negative', 1: 'Neutral', 2: 'Positive', 3: 'Mixed'}\n",
        "\n",
        "# Display the predicted emotions\n",
        "for i, emotion_code in enumerate(test_emotions):\n",
        "    # Check if the emotion code exists in the mapping\n",
        "    if emotion_code in emotion_mapping:\n",
        "        predicted_emotion = emotion_mapping[emotion_code]\n",
        "        print(f\"Comment {i+1}: {test_text.iloc[i]} - Predicted Emotion: {predicted_emotion}\")\n",
        "    else:\n",
        "        print(f\"Comment {i+1}: {test_text.iloc[i]} - Unknown Emotion Code: {emotion_code}\")"
      ]
    },
    {
      "cell_type": "code",
      "source": [],
      "metadata": {
        "id": "FVFS4Een057z"
      },
      "execution_count": null,
      "outputs": []
    },
    {
      "cell_type": "code",
      "source": [],
      "metadata": {
        "id": "B0Hws48t054m"
      },
      "execution_count": null,
      "outputs": []
    },
    {
      "cell_type": "markdown",
      "source": [
        "logistic regression"
      ],
      "metadata": {
        "id": "Xr0mNUFU1I_8"
      }
    },
    {
      "cell_type": "code",
      "source": [
        "from sklearn.linear_model import LogisticRegression\n",
        "\n",
        "# Preprocessing (already done in your original code)\n",
        "X = dataset['text']\n",
        "y = dataset['category']\n",
        "vectorizer = TfidfVectorizer()\n",
        "X_tfidf = vectorizer.fit_transform(X)\n",
        "\n",
        "# Splitting data into training and test sets\n",
        "X_train, X_test, y_train, y_test = train_test_split(X_tfidf, y, test_size=0.2, random_state=42)\n",
        "\n",
        "# Training the Logistic Regression model\n",
        "logreg_classifier = LogisticRegression(max_iter=1000)\n",
        "logreg_classifier.fit(X_train, y_train)\n",
        "\n",
        "# Evaluating the model\n",
        "y_train_pred = logreg_classifier.predict(X_train)\n",
        "y_test_pred = logreg_classifier.predict(X_test)\n",
        "\n",
        "train_accuracy = accuracy_score(y_train, y_train_pred)\n",
        "test_accuracy = accuracy_score(y_test, y_test_pred)\n",
        "print(\"Logistic Regression Model Metrics:\")\n",
        "print(f\"Training Accuracy: {train_accuracy}\")\n",
        "print(f\"Test Accuracy: {test_accuracy}\")\n",
        "\n",
        "# Predicting on test data\n",
        "test_data = pd.read_csv(\"/content/drive/MyDrive/Colab Notebooks/tam_test_without_labels.csv\")\n",
        "test_text = test_data['Text']\n",
        "test_text_tfidf = vectorizer.transform(test_text)\n",
        "test_emotions = logreg_classifier.predict(test_text_tfidf)\n",
        "\n",
        "# Displaying predicted emotions\n",
        "emotion_mapping = {0: 'Negative', 1: 'Neutral', 2: 'Positive', 3: 'Mixed'}\n",
        "for i, emotion_code in enumerate(test_emotions):\n",
        "    if emotion_code in emotion_mapping:\n",
        "        predicted_emotion = emotion_mapping[emotion_code]\n",
        "        print(f\"Comment {i+1}: {test_text.iloc[i]} - Predicted Emotion: {predicted_emotion}\")\n",
        "    else:\n",
        "        print(f\"Comment {i+1}: {test_text.iloc[i]} - Unknown Emotion Code: {emotion_code}\")\n"
      ],
      "metadata": {
        "id": "X6CcB3lx052F"
      },
      "execution_count": null,
      "outputs": []
    },
    {
      "cell_type": "markdown",
      "source": [
        "svm"
      ],
      "metadata": {
        "id": "WXewwJDX1VEW"
      }
    },
    {
      "cell_type": "code",
      "source": [
        "from sklearn.svm import SVC\n",
        "\n",
        "# Preprocessing (same as before)\n",
        "X = dataset['text']\n",
        "y = dataset['category']\n",
        "vectorizer = TfidfVectorizer()\n",
        "X_tfidf = vectorizer.fit_transform(X)\n",
        "\n",
        "# Splitting data into training and test sets\n",
        "X_train, X_test, y_train, y_test = train_test_split(X_tfidf, y, test_size=0.2, random_state=42)\n",
        "\n",
        "# Training the SVM model\n",
        "svm_classifier = SVC(kernel='linear')  # Use 'linear' kernel for better interpretability\n",
        "svm_classifier.fit(X_train, y_train)\n",
        "\n",
        "# Evaluating the model\n",
        "y_train_pred = svm_classifier.predict(X_train)\n",
        "y_test_pred = svm_classifier.predict(X_test)\n",
        "\n",
        "train_accuracy = accuracy_score(y_train, y_train_pred)\n",
        "test_accuracy = accuracy_score(y_test, y_test_pred)\n",
        "print(\"SVM Model Metrics:\")\n",
        "print(f\"Training Accuracy: {train_accuracy}\")\n",
        "print(f\"Test Accuracy: {test_accuracy}\")\n",
        "\n",
        "# Predicting on test data\n",
        "test_data = pd.read_csv(\"/content/drive/MyDrive/Colab Notebooks/tam_test_without_labels.csv\")\n",
        "test_text = test_data['Text']\n",
        "test_text_tfidf = vectorizer.transform(test_text)\n",
        "test_emotions = svm_classifier.predict(test_text_tfidf)\n",
        "\n",
        "# Displaying predicted emotions\n",
        "for i, emotion_code in enumerate(test_emotions):\n",
        "    if emotion_code in emotion_mapping:\n",
        "        predicted_emotion = emotion_mapping[emotion_code]\n",
        "        print(f\"Comment {i+1}: {test_text.iloc[i]} - Predicted Emotion: {predicted_emotion}\")\n",
        "    else:\n",
        "        print(f\"Comment {i+1}: {test_text.iloc[i]} - Unknown Emotion Code: {emotion_code}\")\n"
      ],
      "metadata": {
        "id": "WBjzcZW60_Pc"
      },
      "execution_count": null,
      "outputs": []
    },
    {
      "cell_type": "markdown",
      "source": [
        "naive bayes"
      ],
      "metadata": {
        "id": "Lt_BfSg11fBP"
      }
    },
    {
      "cell_type": "code",
      "source": [
        "from sklearn.naive_bayes import MultinomialNB\n",
        "\n",
        "# Preprocessing (same as before)\n",
        "X = dataset['text']\n",
        "y = dataset['category']\n",
        "vectorizer = TfidfVectorizer()\n",
        "X_tfidf = vectorizer.fit_transform(X)\n",
        "\n",
        "# Splitting data into training and test sets\n",
        "X_train, X_test, y_train, y_test = train_test_split(X_tfidf, y, test_size=0.2, random_state=42)\n",
        "\n",
        "# Training the Naive Bayes model\n",
        "nb_classifier = MultinomialNB()\n",
        "nb_classifier.fit(X_train, y_train)\n",
        "\n",
        "# Evaluating the model\n",
        "y_train_pred = nb_classifier.predict(X_train)\n",
        "y_test_pred = nb_classifier.predict(X_test)\n",
        "\n",
        "train_accuracy = accuracy_score(y_train, y_train_pred)\n",
        "test_accuracy = accuracy_score(y_test, y_test_pred)\n",
        "print(\"Naive Bayes Model Metrics:\")\n",
        "print(f\"Training Accuracy: {train_accuracy}\")\n",
        "print(f\"Test Accuracy: {test_accuracy}\")\n",
        "\n",
        "# Predicting on test data\n",
        "test_data = pd.read_csv(\"/content/drive/MyDrive/Colab Notebooks/tam_test_without_labels.csv\")\n",
        "test_text = test_data['Text']\n",
        "test_text_tfidf = vectorizer.transform(test_text)\n",
        "test_emotions = nb_classifier.predict(test_text_tfidf)\n",
        "\n",
        "# Displaying predicted emotions\n",
        "for i, emotion_code in enumerate(test_emotions):\n",
        "    if emotion_code in emotion_mapping:\n",
        "        predicted_emotion = emotion_mapping[emotion_code]\n",
        "        print(f\"Comment {i+1}: {test_text.iloc[i]} - Predicted Emotion: {predicted_emotion}\")\n",
        "    else:\n",
        "        print(f\"Comment {i+1}: {test_text.iloc[i]} - Unknown Emotion Code: {emotion_code}\")\n"
      ],
      "metadata": {
        "id": "ZUJuvsIE05za"
      },
      "execution_count": null,
      "outputs": []
    },
    {
      "cell_type": "code",
      "source": [],
      "metadata": {
        "id": "bsqOuhh005xF"
      },
      "execution_count": null,
      "outputs": []
    }
  ]
}